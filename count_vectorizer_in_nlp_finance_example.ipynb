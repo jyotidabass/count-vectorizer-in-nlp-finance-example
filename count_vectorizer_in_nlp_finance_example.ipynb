{
  "metadata": {
    "kernelspec": {
      "language": "python",
      "display_name": "Python 3",
      "name": "python3"
    },
    "language_info": {
      "name": "python",
      "version": "3.10.14",
      "mimetype": "text/x-python",
      "codemirror_mode": {
        "name": "ipython",
        "version": 3
      },
      "pygments_lexer": "ipython3",
      "nbconvert_exporter": "python",
      "file_extension": ".py"
    },
    "kaggle": {
      "accelerator": "none",
      "dataSources": [],
      "dockerImageVersionId": 30761,
      "isInternetEnabled": true,
      "language": "python",
      "sourceType": "notebook",
      "isGpuEnabled": false
    },
    "colab": {
      "provenance": [],
      "include_colab_link": true
    }
  },
  "nbformat_minor": 0,
  "nbformat": 4,
  "cells": [
    {
      "cell_type": "markdown",
      "metadata": {
        "id": "view-in-github",
        "colab_type": "text"
      },
      "source": [
        "<a href=\"https://colab.research.google.com/github/jyotidabass/count-vectorizer-in-nlp-finance-example/blob/main/count_vectorizer_in_nlp_finance_example.ipynb\" target=\"_parent\"><img src=\"https://colab.research.google.com/assets/colab-badge.svg\" alt=\"Open In Colab\"/></a>"
      ]
    },
    {
      "cell_type": "markdown",
      "source": [
        "**Natural Language Processing (NLP) is a powerful tool used in finance to analyze and understand text data. Count Vectorizer is a technique in NLP that helps convert text data into numerical format for machine learning algorithms. **"
      ],
      "metadata": {
        "id": "amIlv71KcOyg"
      }
    },
    {
      "cell_type": "markdown",
      "source": [
        "# What is a Count Vectorizer?\n",
        "\n",
        "**Count Vectorizer is a technique used in Natural Language Processing (NLP) to convert text data into numerical format, which can be used for machine learning algorithms. It is a type of bag-of-words representation, which means it creates a numerical representation of text by counting the occurrences of words in a given document or corpus.**"
      ],
      "metadata": {
        "id": "vGVSvhN2cOyj"
      }
    },
    {
      "cell_type": "markdown",
      "source": [
        "**First, install the necessary packages if you haven't already done so:**"
      ],
      "metadata": {
        "id": "S_K8zNincOyj"
      }
    },
    {
      "cell_type": "code",
      "source": [
        "!pip install pandas numpy nltk"
      ],
      "metadata": {
        "execution": {
          "iopub.status.busy": "2024-09-11T09:35:02.974610Z",
          "iopub.execute_input": "2024-09-11T09:35:02.975295Z",
          "iopub.status.idle": "2024-09-11T09:35:19.434213Z",
          "shell.execute_reply.started": "2024-09-11T09:35:02.975236Z",
          "shell.execute_reply": "2024-09-11T09:35:19.432058Z"
        },
        "trusted": true,
        "colab": {
          "base_uri": "https://localhost:8080/"
        },
        "id": "rrAtJLOUcOyk",
        "outputId": "8c07b207-ff5d-44fd-efe8-f41d4de4fda8"
      },
      "execution_count": 1,
      "outputs": [
        {
          "output_type": "stream",
          "name": "stdout",
          "text": [
            "Requirement already satisfied: pandas in /usr/local/lib/python3.10/dist-packages (2.1.4)\n",
            "Requirement already satisfied: numpy in /usr/local/lib/python3.10/dist-packages (1.26.4)\n",
            "Requirement already satisfied: nltk in /usr/local/lib/python3.10/dist-packages (3.8.1)\n",
            "Requirement already satisfied: python-dateutil>=2.8.2 in /usr/local/lib/python3.10/dist-packages (from pandas) (2.8.2)\n",
            "Requirement already satisfied: pytz>=2020.1 in /usr/local/lib/python3.10/dist-packages (from pandas) (2024.1)\n",
            "Requirement already satisfied: tzdata>=2022.1 in /usr/local/lib/python3.10/dist-packages (from pandas) (2024.1)\n",
            "Requirement already satisfied: click in /usr/local/lib/python3.10/dist-packages (from nltk) (8.1.7)\n",
            "Requirement already satisfied: joblib in /usr/local/lib/python3.10/dist-packages (from nltk) (1.4.2)\n",
            "Requirement already satisfied: regex>=2021.8.3 in /usr/local/lib/python3.10/dist-packages (from nltk) (2024.5.15)\n",
            "Requirement already satisfied: tqdm in /usr/local/lib/python3.10/dist-packages (from nltk) (4.66.5)\n",
            "Requirement already satisfied: six>=1.5 in /usr/local/lib/python3.10/dist-packages (from python-dateutil>=2.8.2->pandas) (1.16.0)\n"
          ]
        }
      ]
    },
    {
      "cell_type": "markdown",
      "source": [
        "**Import the required libraries:**"
      ],
      "metadata": {
        "id": "RE7vUyrscOyk"
      }
    },
    {
      "cell_type": "code",
      "source": [
        "import pandas as pd\n",
        "import numpy as np\n",
        "from sklearn.feature_extraction.text import CountVectorizer\n",
        "from nltk.tokenize import word_tokenize"
      ],
      "metadata": {
        "execution": {
          "iopub.status.busy": "2024-09-11T09:35:19.437619Z",
          "iopub.execute_input": "2024-09-11T09:35:19.438469Z",
          "iopub.status.idle": "2024-09-11T09:35:19.445633Z",
          "shell.execute_reply.started": "2024-09-11T09:35:19.438418Z",
          "shell.execute_reply": "2024-09-11T09:35:19.444129Z"
        },
        "trusted": true,
        "id": "QOuRLSdBcOyl"
      },
      "execution_count": 2,
      "outputs": []
    },
    {
      "cell_type": "markdown",
      "source": [
        "**Load the sample finance-related text data in a pandas DataFrame:**"
      ],
      "metadata": {
        "id": "iNMCNm44cOyl"
      }
    },
    {
      "cell_type": "code",
      "source": [
        "data = {\n",
        "    'text': [\n",
        "        'The app is very useful for tracking my investments.',\n",
        "        'The user interface is intuitive and easy to use.',\n",
        "        'I had a great experience with the app.',\n",
        "        'The app is a bit slow at times.'\n",
        "    ]\n",
        "}\n",
        "\n",
        "df = pd.DataFrame(data)"
      ],
      "metadata": {
        "execution": {
          "iopub.status.busy": "2024-09-11T09:35:19.447856Z",
          "iopub.execute_input": "2024-09-11T09:35:19.448413Z",
          "iopub.status.idle": "2024-09-11T09:35:19.463416Z",
          "shell.execute_reply.started": "2024-09-11T09:35:19.448356Z",
          "shell.execute_reply": "2024-09-11T09:35:19.461658Z"
        },
        "trusted": true,
        "id": "XXzw-z7PcOyl"
      },
      "execution_count": 3,
      "outputs": []
    },
    {
      "cell_type": "markdown",
      "source": [
        "**Tokenize the text:**"
      ],
      "metadata": {
        "id": "yS-a7AOmcOyl"
      }
    },
    {
      "cell_type": "code",
      "source": [
        "import nltk\n",
        "nltk.download('punkt')\n",
        "df['tokens'] = df['text'].apply(lambda x: word_tokenize(x))"
      ],
      "metadata": {
        "execution": {
          "iopub.status.busy": "2024-09-11T09:35:19.467085Z",
          "iopub.execute_input": "2024-09-11T09:35:19.467661Z",
          "iopub.status.idle": "2024-09-11T09:35:19.483363Z",
          "shell.execute_reply.started": "2024-09-11T09:35:19.467606Z",
          "shell.execute_reply": "2024-09-11T09:35:19.481866Z"
        },
        "trusted": true,
        "colab": {
          "base_uri": "https://localhost:8080/"
        },
        "id": "0eFt5iWtcOym",
        "outputId": "de47ef06-fbfd-4a4b-b7c2-1f5d04c877dd"
      },
      "execution_count": 4,
      "outputs": [
        {
          "output_type": "stream",
          "name": "stderr",
          "text": [
            "[nltk_data] Downloading package punkt to /root/nltk_data...\n",
            "[nltk_data]   Unzipping tokenizers/punkt.zip.\n"
          ]
        }
      ]
    },
    {
      "cell_type": "markdown",
      "source": [
        "**Define the CountVectorizer and fit it on the tokenized text:**"
      ],
      "metadata": {
        "id": "qe74hViwcOyn"
      }
    },
    {
      "cell_type": "code",
      "source": [
        "vectorizer = CountVectorizer()\n",
        "# Convert list of tokens back to strings\n",
        "df['text'] = df['tokens'].apply(lambda x: ' '.join(x))\n",
        "vectorizer.fit(df['text'])"
      ],
      "metadata": {
        "execution": {
          "iopub.status.busy": "2024-09-11T09:35:19.485126Z",
          "iopub.execute_input": "2024-09-11T09:35:19.485576Z",
          "iopub.status.idle": "2024-09-11T09:35:19.504778Z",
          "shell.execute_reply.started": "2024-09-11T09:35:19.485535Z",
          "shell.execute_reply": "2024-09-11T09:35:19.503249Z"
        },
        "trusted": true,
        "colab": {
          "base_uri": "https://localhost:8080/",
          "height": 74
        },
        "id": "Rz-G2jEgcOyn",
        "outputId": "5c93c5e6-840c-43fe-a44f-cc36720d3ee2"
      },
      "execution_count": 5,
      "outputs": [
        {
          "output_type": "execute_result",
          "data": {
            "text/plain": [
              "CountVectorizer()"
            ],
            "text/html": [
              "<style>#sk-container-id-1 {color: black;}#sk-container-id-1 pre{padding: 0;}#sk-container-id-1 div.sk-toggleable {background-color: white;}#sk-container-id-1 label.sk-toggleable__label {cursor: pointer;display: block;width: 100%;margin-bottom: 0;padding: 0.3em;box-sizing: border-box;text-align: center;}#sk-container-id-1 label.sk-toggleable__label-arrow:before {content: \"▸\";float: left;margin-right: 0.25em;color: #696969;}#sk-container-id-1 label.sk-toggleable__label-arrow:hover:before {color: black;}#sk-container-id-1 div.sk-estimator:hover label.sk-toggleable__label-arrow:before {color: black;}#sk-container-id-1 div.sk-toggleable__content {max-height: 0;max-width: 0;overflow: hidden;text-align: left;background-color: #f0f8ff;}#sk-container-id-1 div.sk-toggleable__content pre {margin: 0.2em;color: black;border-radius: 0.25em;background-color: #f0f8ff;}#sk-container-id-1 input.sk-toggleable__control:checked~div.sk-toggleable__content {max-height: 200px;max-width: 100%;overflow: auto;}#sk-container-id-1 input.sk-toggleable__control:checked~label.sk-toggleable__label-arrow:before {content: \"▾\";}#sk-container-id-1 div.sk-estimator input.sk-toggleable__control:checked~label.sk-toggleable__label {background-color: #d4ebff;}#sk-container-id-1 div.sk-label input.sk-toggleable__control:checked~label.sk-toggleable__label {background-color: #d4ebff;}#sk-container-id-1 input.sk-hidden--visually {border: 0;clip: rect(1px 1px 1px 1px);clip: rect(1px, 1px, 1px, 1px);height: 1px;margin: -1px;overflow: hidden;padding: 0;position: absolute;width: 1px;}#sk-container-id-1 div.sk-estimator {font-family: monospace;background-color: #f0f8ff;border: 1px dotted black;border-radius: 0.25em;box-sizing: border-box;margin-bottom: 0.5em;}#sk-container-id-1 div.sk-estimator:hover {background-color: #d4ebff;}#sk-container-id-1 div.sk-parallel-item::after {content: \"\";width: 100%;border-bottom: 1px solid gray;flex-grow: 1;}#sk-container-id-1 div.sk-label:hover label.sk-toggleable__label {background-color: #d4ebff;}#sk-container-id-1 div.sk-serial::before {content: \"\";position: absolute;border-left: 1px solid gray;box-sizing: border-box;top: 0;bottom: 0;left: 50%;z-index: 0;}#sk-container-id-1 div.sk-serial {display: flex;flex-direction: column;align-items: center;background-color: white;padding-right: 0.2em;padding-left: 0.2em;position: relative;}#sk-container-id-1 div.sk-item {position: relative;z-index: 1;}#sk-container-id-1 div.sk-parallel {display: flex;align-items: stretch;justify-content: center;background-color: white;position: relative;}#sk-container-id-1 div.sk-item::before, #sk-container-id-1 div.sk-parallel-item::before {content: \"\";position: absolute;border-left: 1px solid gray;box-sizing: border-box;top: 0;bottom: 0;left: 50%;z-index: -1;}#sk-container-id-1 div.sk-parallel-item {display: flex;flex-direction: column;z-index: 1;position: relative;background-color: white;}#sk-container-id-1 div.sk-parallel-item:first-child::after {align-self: flex-end;width: 50%;}#sk-container-id-1 div.sk-parallel-item:last-child::after {align-self: flex-start;width: 50%;}#sk-container-id-1 div.sk-parallel-item:only-child::after {width: 0;}#sk-container-id-1 div.sk-dashed-wrapped {border: 1px dashed gray;margin: 0 0.4em 0.5em 0.4em;box-sizing: border-box;padding-bottom: 0.4em;background-color: white;}#sk-container-id-1 div.sk-label label {font-family: monospace;font-weight: bold;display: inline-block;line-height: 1.2em;}#sk-container-id-1 div.sk-label-container {text-align: center;}#sk-container-id-1 div.sk-container {/* jupyter's `normalize.less` sets `[hidden] { display: none; }` but bootstrap.min.css set `[hidden] { display: none !important; }` so we also need the `!important` here to be able to override the default hidden behavior on the sphinx rendered scikit-learn.org. See: https://github.com/scikit-learn/scikit-learn/issues/21755 */display: inline-block !important;position: relative;}#sk-container-id-1 div.sk-text-repr-fallback {display: none;}</style><div id=\"sk-container-id-1\" class=\"sk-top-container\"><div class=\"sk-text-repr-fallback\"><pre>CountVectorizer()</pre><b>In a Jupyter environment, please rerun this cell to show the HTML representation or trust the notebook. <br />On GitHub, the HTML representation is unable to render, please try loading this page with nbviewer.org.</b></div><div class=\"sk-container\" hidden><div class=\"sk-item\"><div class=\"sk-estimator sk-toggleable\"><input class=\"sk-toggleable__control sk-hidden--visually\" id=\"sk-estimator-id-1\" type=\"checkbox\" checked><label for=\"sk-estimator-id-1\" class=\"sk-toggleable__label sk-toggleable__label-arrow\">CountVectorizer</label><div class=\"sk-toggleable__content\"><pre>CountVectorizer()</pre></div></div></div></div></div>"
            ]
          },
          "metadata": {},
          "execution_count": 5
        }
      ]
    },
    {
      "cell_type": "markdown",
      "source": [
        "**Transform the tokenized text into a numerical representation using the CountVectorizer:**"
      ],
      "metadata": {
        "id": "FTZ73TLNcOyn"
      }
    },
    {
      "cell_type": "code",
      "source": [
        "count_matrix = vectorizer.transform(df['text']).toarray() # Use the 'text' column which contains strings"
      ],
      "metadata": {
        "execution": {
          "iopub.status.busy": "2024-09-11T09:35:19.506466Z",
          "iopub.execute_input": "2024-09-11T09:35:19.506942Z",
          "iopub.status.idle": "2024-09-11T09:35:19.518272Z",
          "shell.execute_reply.started": "2024-09-11T09:35:19.506890Z",
          "shell.execute_reply": "2024-09-11T09:35:19.516932Z"
        },
        "trusted": true,
        "id": "sTvALclKcOyn"
      },
      "execution_count": 6,
      "outputs": []
    },
    {
      "cell_type": "markdown",
      "source": [
        "**Convert the sparse matrix to a numpy array:**"
      ],
      "metadata": {
        "id": "MBjyfDJocOyo"
      }
    },
    {
      "cell_type": "code",
      "source": [
        "count_array = np.array(count_matrix)"
      ],
      "metadata": {
        "execution": {
          "iopub.status.busy": "2024-09-11T09:35:19.520000Z",
          "iopub.execute_input": "2024-09-11T09:35:19.520504Z",
          "iopub.status.idle": "2024-09-11T09:35:19.529471Z",
          "shell.execute_reply.started": "2024-09-11T09:35:19.520450Z",
          "shell.execute_reply": "2024-09-11T09:35:19.527979Z"
        },
        "trusted": true,
        "id": "9Oaug_7ecOyo"
      },
      "execution_count": 7,
      "outputs": []
    },
    {
      "cell_type": "markdown",
      "source": [
        "**Print the CountVectorizer vocabulary and the resulting count array:**"
      ],
      "metadata": {
        "id": "TXsJJDFDcOyo"
      }
    },
    {
      "cell_type": "code",
      "source": [
        "print('Vocabulary:', vectorizer.get_feature_names_out()) # Use get_feature_names_out() for scikit-learn versions 1.0 and above\n",
        "print('Count array:')\n",
        "print(count_array)"
      ],
      "metadata": {
        "execution": {
          "iopub.status.busy": "2024-09-11T09:35:19.531239Z",
          "iopub.execute_input": "2024-09-11T09:35:19.532268Z",
          "iopub.status.idle": "2024-09-11T09:35:19.544881Z",
          "shell.execute_reply.started": "2024-09-11T09:35:19.532201Z",
          "shell.execute_reply": "2024-09-11T09:35:19.543198Z"
        },
        "trusted": true,
        "colab": {
          "base_uri": "https://localhost:8080/"
        },
        "id": "U6SLL_yXcOyo",
        "outputId": "d5aa3da1-195e-4f97-f999-ca46fc0e22ee"
      },
      "execution_count": 8,
      "outputs": [
        {
          "output_type": "stream",
          "name": "stdout",
          "text": [
            "Vocabulary: ['and' 'app' 'at' 'bit' 'easy' 'experience' 'for' 'great' 'had'\n",
            " 'interface' 'intuitive' 'investments' 'is' 'my' 'slow' 'the' 'times' 'to'\n",
            " 'tracking' 'use' 'useful' 'user' 'very' 'with']\n",
            "Count array:\n",
            "[[0 1 0 0 0 0 1 0 0 0 0 1 1 1 0 1 0 0 1 0 1 0 1 0]\n",
            " [1 0 0 0 1 0 0 0 0 1 1 0 1 0 0 1 0 1 0 1 0 1 0 0]\n",
            " [0 1 0 0 0 1 0 1 1 0 0 0 0 0 0 1 0 0 0 0 0 0 0 1]\n",
            " [0 1 1 1 0 0 0 0 0 0 0 0 1 0 1 1 1 0 0 0 0 0 0 0]]\n"
          ]
        }
      ]
    },
    {
      "cell_type": "markdown",
      "source": [
        "# Please upvote if you liked this!! Thanks!!"
      ],
      "metadata": {
        "id": "jLtf41xKcOyp"
      }
    }
  ]
}